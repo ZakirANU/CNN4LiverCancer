{
  "cells": [
    {
      "cell_type": "markdown",
      "metadata": {
        "id": "view-in-github",
        "colab_type": "text"
      },
      "source": [
        "<a href=\"https://colab.research.google.com/github/patrickjbuckley01/HepatocellularCarcinoma/blob/master/Cancer_Prediction_Model.ipynb\" target=\"_parent\"><img src=\"https://colab.research.google.com/assets/colab-badge.svg\" alt=\"Open In Colab\"/></a>"
      ]
    },
    {
      "cell_type": "code",
      "execution_count": null,
      "metadata": {
        "colab": {
          "base_uri": "https://localhost:8080/"
        },
        "id": "GJJaBd6ISOUi",
        "outputId": "aa26b533-8af4-4034-eef2-e0beb25852ab"
      },
      "outputs": [
        {
          "output_type": "stream",
          "name": "stdout",
          "text": [
            "Mounted at /content/drive\n"
          ]
        }
      ],
      "source": [
        "from google.colab import drive\n",
        "drive.mount('/content/drive')"
      ]
    },
    {
      "cell_type": "code",
      "execution_count": null,
      "metadata": {
        "id": "GgfWeoOxGJJt"
      },
      "outputs": [],
      "source": [
        "from pathlib import Path\n",
        "import os\n",
        "import PIL.Image\n",
        "import pandas as pd\n",
        "# load dataset\n",
        "x1 = []\n",
        "x2 = []\n",
        "y = []\n",
        "p = Path('/content/drive/MyDrive/COMP4550/Project')\n",
        "for i in p.iterdir():\n",
        "    if i.is_dir() and not i.__str__().__contains__('checkpoints'):\n",
        "        patient = i\n",
        "        outcome_file = open(i.__str__()+'/Dict.txt','r')\n",
        "        outcome_line = outcome_file.readline()\n",
        "        outcomes = {}\n",
        "        while outcome_line != \"\":\n",
        "          outcome = outcome_line.split(\",\")\n",
        "          if len(outcome[0]) == 4:\n",
        "            outcome[0] = '/'+outcome[0]\n",
        "          outcomes[outcome[0]] = outcome[1]\n",
        "          outcome_line = outcome_file.readline()\n",
        "        temp_p = Path(i.__str__())\n",
        "        fold = 0\n",
        "        for j in temp_p.iterdir():\n",
        "            if j.is_dir():\n",
        "                scan_p = Path(j.__str__())\n",
        "                temp_scan = []\n",
        "                temp_y = []\n",
        "                for k in scan_p.iterdir():\n",
        "                    temp_scan.append(k.__str__())\n",
        "                    if k.__str__()[-9:-4] in outcomes:\n",
        "                      temp_y.append(outcomes[k.__str__()[-9:-4]][0])\n",
        "                    else:\n",
        "                      temp_y.append('2')\n",
        "                if fold == 0:\n",
        "                  x1.append(temp_scan)\n",
        "                  y.append(temp_y)\n",
        "                  fold = 1\n",
        "                else:\n",
        "                  x2.append(temp_scan)"
      ]
    },
    {
      "cell_type": "code",
      "execution_count": null,
      "metadata": {
        "colab": {
          "base_uri": "https://localhost:8080/"
        },
        "id": "3gdOUWCSF4sg",
        "outputId": "755eb4c9-4284-4fbf-d0f0-f376a96b26a7"
      },
      "outputs": [
        {
          "output_type": "stream",
          "name": "stdout",
          "text": [
            "Collecting tensorflow_io[tensorflow]\n",
            "  Downloading tensorflow_io-0.33.0-cp310-cp310-manylinux_2_12_x86_64.manylinux2010_x86_64.whl (28.6 MB)\n",
            "\u001b[2K     \u001b[90m━━━━━━━━━━━━━━━━━━━━━━━━━━━━━━━━━━━━━━━━\u001b[0m \u001b[32m28.6/28.6 MB\u001b[0m \u001b[31m34.3 MB/s\u001b[0m eta \u001b[36m0:00:00\u001b[0m\n",
            "\u001b[?25hCollecting tensorflow-io-gcs-filesystem==0.33.0 (from tensorflow_io[tensorflow])\n",
            "  Downloading tensorflow_io_gcs_filesystem-0.33.0-cp310-cp310-manylinux_2_12_x86_64.manylinux2010_x86_64.whl (2.4 MB)\n",
            "\u001b[2K     \u001b[90m━━━━━━━━━━━━━━━━━━━━━━━━━━━━━━━━━━━━━━━━\u001b[0m \u001b[32m2.4/2.4 MB\u001b[0m \u001b[31m49.5 MB/s\u001b[0m eta \u001b[36m0:00:00\u001b[0m\n",
            "\u001b[?25hCollecting tensorflow<2.14.0,>=2.13.0 (from tensorflow_io[tensorflow])\n",
            "  Downloading tensorflow-2.13.0-cp310-cp310-manylinux_2_17_x86_64.manylinux2014_x86_64.whl (524.1 MB)\n",
            "\u001b[2K     \u001b[90m━━━━━━━━━━━━━━━━━━━━━━━━━━━━━━━━━━━━━━━\u001b[0m \u001b[32m524.1/524.1 MB\u001b[0m \u001b[31m2.9 MB/s\u001b[0m eta \u001b[36m0:00:00\u001b[0m\n",
            "\u001b[?25hRequirement already satisfied: absl-py>=1.0.0 in /usr/local/lib/python3.10/dist-packages (from tensorflow<2.14.0,>=2.13.0->tensorflow_io[tensorflow]) (1.4.0)\n",
            "Requirement already satisfied: astunparse>=1.6.0 in /usr/local/lib/python3.10/dist-packages (from tensorflow<2.14.0,>=2.13.0->tensorflow_io[tensorflow]) (1.6.3)\n",
            "Requirement already satisfied: flatbuffers>=23.1.21 in /usr/local/lib/python3.10/dist-packages (from tensorflow<2.14.0,>=2.13.0->tensorflow_io[tensorflow]) (23.5.26)\n",
            "Requirement already satisfied: gast<=0.4.0,>=0.2.1 in /usr/local/lib/python3.10/dist-packages (from tensorflow<2.14.0,>=2.13.0->tensorflow_io[tensorflow]) (0.4.0)\n",
            "Requirement already satisfied: google-pasta>=0.1.1 in /usr/local/lib/python3.10/dist-packages (from tensorflow<2.14.0,>=2.13.0->tensorflow_io[tensorflow]) (0.2.0)\n",
            "Requirement already satisfied: grpcio<2.0,>=1.24.3 in /usr/local/lib/python3.10/dist-packages (from tensorflow<2.14.0,>=2.13.0->tensorflow_io[tensorflow]) (1.56.2)\n",
            "Requirement already satisfied: h5py>=2.9.0 in /usr/local/lib/python3.10/dist-packages (from tensorflow<2.14.0,>=2.13.0->tensorflow_io[tensorflow]) (3.8.0)\n",
            "Collecting keras<2.14,>=2.13.1 (from tensorflow<2.14.0,>=2.13.0->tensorflow_io[tensorflow])\n",
            "  Downloading keras-2.13.1-py3-none-any.whl (1.7 MB)\n",
            "\u001b[2K     \u001b[90m━━━━━━━━━━━━━━━━━━━━━━━━━━━━━━━━━━━━━━━━\u001b[0m \u001b[32m1.7/1.7 MB\u001b[0m \u001b[31m63.9 MB/s\u001b[0m eta \u001b[36m0:00:00\u001b[0m\n",
            "\u001b[?25hRequirement already satisfied: libclang>=13.0.0 in /usr/local/lib/python3.10/dist-packages (from tensorflow<2.14.0,>=2.13.0->tensorflow_io[tensorflow]) (16.0.6)\n",
            "Requirement already satisfied: numpy<=1.24.3,>=1.22 in /usr/local/lib/python3.10/dist-packages (from tensorflow<2.14.0,>=2.13.0->tensorflow_io[tensorflow]) (1.22.4)\n",
            "Requirement already satisfied: opt-einsum>=2.3.2 in /usr/local/lib/python3.10/dist-packages (from tensorflow<2.14.0,>=2.13.0->tensorflow_io[tensorflow]) (3.3.0)\n",
            "Requirement already satisfied: packaging in /usr/local/lib/python3.10/dist-packages (from tensorflow<2.14.0,>=2.13.0->tensorflow_io[tensorflow]) (23.1)\n",
            "Requirement already satisfied: protobuf!=4.21.0,!=4.21.1,!=4.21.2,!=4.21.3,!=4.21.4,!=4.21.5,<5.0.0dev,>=3.20.3 in /usr/local/lib/python3.10/dist-packages (from tensorflow<2.14.0,>=2.13.0->tensorflow_io[tensorflow]) (3.20.3)\n",
            "Requirement already satisfied: setuptools in /usr/local/lib/python3.10/dist-packages (from tensorflow<2.14.0,>=2.13.0->tensorflow_io[tensorflow]) (67.7.2)\n",
            "Requirement already satisfied: six>=1.12.0 in /usr/local/lib/python3.10/dist-packages (from tensorflow<2.14.0,>=2.13.0->tensorflow_io[tensorflow]) (1.16.0)\n",
            "Collecting tensorboard<2.14,>=2.13 (from tensorflow<2.14.0,>=2.13.0->tensorflow_io[tensorflow])\n",
            "  Downloading tensorboard-2.13.0-py3-none-any.whl (5.6 MB)\n",
            "\u001b[2K     \u001b[90m━━━━━━━━━━━━━━━━━━━━━━━━━━━━━━━━━━━━━━━━\u001b[0m \u001b[32m5.6/5.6 MB\u001b[0m \u001b[31m54.1 MB/s\u001b[0m eta \u001b[36m0:00:00\u001b[0m\n",
            "\u001b[?25hCollecting tensorflow-estimator<2.14,>=2.13.0 (from tensorflow<2.14.0,>=2.13.0->tensorflow_io[tensorflow])\n",
            "  Downloading tensorflow_estimator-2.13.0-py2.py3-none-any.whl (440 kB)\n",
            "\u001b[2K     \u001b[90m━━━━━━━━━━━━━━━━━━━━━━━━━━━━━━━━━━━━━━\u001b[0m \u001b[32m440.8/440.8 kB\u001b[0m \u001b[31m29.2 MB/s\u001b[0m eta \u001b[36m0:00:00\u001b[0m\n",
            "\u001b[?25hRequirement already satisfied: termcolor>=1.1.0 in /usr/local/lib/python3.10/dist-packages (from tensorflow<2.14.0,>=2.13.0->tensorflow_io[tensorflow]) (2.3.0)\n",
            "Collecting typing-extensions<4.6.0,>=3.6.6 (from tensorflow<2.14.0,>=2.13.0->tensorflow_io[tensorflow])\n",
            "  Downloading typing_extensions-4.5.0-py3-none-any.whl (27 kB)\n",
            "Requirement already satisfied: wrapt>=1.11.0 in /usr/local/lib/python3.10/dist-packages (from tensorflow<2.14.0,>=2.13.0->tensorflow_io[tensorflow]) (1.14.1)\n",
            "Requirement already satisfied: wheel<1.0,>=0.23.0 in /usr/local/lib/python3.10/dist-packages (from astunparse>=1.6.0->tensorflow<2.14.0,>=2.13.0->tensorflow_io[tensorflow]) (0.41.0)\n",
            "Requirement already satisfied: google-auth<3,>=1.6.3 in /usr/local/lib/python3.10/dist-packages (from tensorboard<2.14,>=2.13->tensorflow<2.14.0,>=2.13.0->tensorflow_io[tensorflow]) (2.17.3)\n",
            "Requirement already satisfied: google-auth-oauthlib<1.1,>=0.5 in /usr/local/lib/python3.10/dist-packages (from tensorboard<2.14,>=2.13->tensorflow<2.14.0,>=2.13.0->tensorflow_io[tensorflow]) (1.0.0)\n",
            "Requirement already satisfied: markdown>=2.6.8 in /usr/local/lib/python3.10/dist-packages (from tensorboard<2.14,>=2.13->tensorflow<2.14.0,>=2.13.0->tensorflow_io[tensorflow]) (3.4.4)\n",
            "Requirement already satisfied: requests<3,>=2.21.0 in /usr/local/lib/python3.10/dist-packages (from tensorboard<2.14,>=2.13->tensorflow<2.14.0,>=2.13.0->tensorflow_io[tensorflow]) (2.27.1)\n",
            "Requirement already satisfied: tensorboard-data-server<0.8.0,>=0.7.0 in /usr/local/lib/python3.10/dist-packages (from tensorboard<2.14,>=2.13->tensorflow<2.14.0,>=2.13.0->tensorflow_io[tensorflow]) (0.7.1)\n",
            "Requirement already satisfied: werkzeug>=1.0.1 in /usr/local/lib/python3.10/dist-packages (from tensorboard<2.14,>=2.13->tensorflow<2.14.0,>=2.13.0->tensorflow_io[tensorflow]) (2.3.6)\n",
            "Requirement already satisfied: cachetools<6.0,>=2.0.0 in /usr/local/lib/python3.10/dist-packages (from google-auth<3,>=1.6.3->tensorboard<2.14,>=2.13->tensorflow<2.14.0,>=2.13.0->tensorflow_io[tensorflow]) (5.3.1)\n",
            "Requirement already satisfied: pyasn1-modules>=0.2.1 in /usr/local/lib/python3.10/dist-packages (from google-auth<3,>=1.6.3->tensorboard<2.14,>=2.13->tensorflow<2.14.0,>=2.13.0->tensorflow_io[tensorflow]) (0.3.0)\n",
            "Requirement already satisfied: rsa<5,>=3.1.4 in /usr/local/lib/python3.10/dist-packages (from google-auth<3,>=1.6.3->tensorboard<2.14,>=2.13->tensorflow<2.14.0,>=2.13.0->tensorflow_io[tensorflow]) (4.9)\n",
            "Requirement already satisfied: requests-oauthlib>=0.7.0 in /usr/local/lib/python3.10/dist-packages (from google-auth-oauthlib<1.1,>=0.5->tensorboard<2.14,>=2.13->tensorflow<2.14.0,>=2.13.0->tensorflow_io[tensorflow]) (1.3.1)\n",
            "Requirement already satisfied: urllib3<1.27,>=1.21.1 in /usr/local/lib/python3.10/dist-packages (from requests<3,>=2.21.0->tensorboard<2.14,>=2.13->tensorflow<2.14.0,>=2.13.0->tensorflow_io[tensorflow]) (1.26.16)\n",
            "Requirement already satisfied: certifi>=2017.4.17 in /usr/local/lib/python3.10/dist-packages (from requests<3,>=2.21.0->tensorboard<2.14,>=2.13->tensorflow<2.14.0,>=2.13.0->tensorflow_io[tensorflow]) (2023.7.22)\n",
            "Requirement already satisfied: charset-normalizer~=2.0.0 in /usr/local/lib/python3.10/dist-packages (from requests<3,>=2.21.0->tensorboard<2.14,>=2.13->tensorflow<2.14.0,>=2.13.0->tensorflow_io[tensorflow]) (2.0.12)\n",
            "Requirement already satisfied: idna<4,>=2.5 in /usr/local/lib/python3.10/dist-packages (from requests<3,>=2.21.0->tensorboard<2.14,>=2.13->tensorflow<2.14.0,>=2.13.0->tensorflow_io[tensorflow]) (3.4)\n",
            "Requirement already satisfied: MarkupSafe>=2.1.1 in /usr/local/lib/python3.10/dist-packages (from werkzeug>=1.0.1->tensorboard<2.14,>=2.13->tensorflow<2.14.0,>=2.13.0->tensorflow_io[tensorflow]) (2.1.3)\n",
            "Requirement already satisfied: pyasn1<0.6.0,>=0.4.6 in /usr/local/lib/python3.10/dist-packages (from pyasn1-modules>=0.2.1->google-auth<3,>=1.6.3->tensorboard<2.14,>=2.13->tensorflow<2.14.0,>=2.13.0->tensorflow_io[tensorflow]) (0.5.0)\n",
            "Requirement already satisfied: oauthlib>=3.0.0 in /usr/local/lib/python3.10/dist-packages (from requests-oauthlib>=0.7.0->google-auth-oauthlib<1.1,>=0.5->tensorboard<2.14,>=2.13->tensorflow<2.14.0,>=2.13.0->tensorflow_io[tensorflow]) (3.2.2)\n",
            "Installing collected packages: typing-extensions, tensorflow-io-gcs-filesystem, tensorflow-estimator, keras, tensorflow_io, tensorboard, tensorflow\n",
            "  Attempting uninstall: typing-extensions\n",
            "    Found existing installation: typing_extensions 4.7.1\n",
            "    Uninstalling typing_extensions-4.7.1:\n",
            "      Successfully uninstalled typing_extensions-4.7.1\n",
            "  Attempting uninstall: tensorflow-io-gcs-filesystem\n",
            "    Found existing installation: tensorflow-io-gcs-filesystem 0.32.0\n",
            "    Uninstalling tensorflow-io-gcs-filesystem-0.32.0:\n",
            "      Successfully uninstalled tensorflow-io-gcs-filesystem-0.32.0\n",
            "  Attempting uninstall: tensorflow-estimator\n",
            "    Found existing installation: tensorflow-estimator 2.12.0\n",
            "    Uninstalling tensorflow-estimator-2.12.0:\n",
            "      Successfully uninstalled tensorflow-estimator-2.12.0\n",
            "  Attempting uninstall: keras\n",
            "    Found existing installation: keras 2.12.0\n",
            "    Uninstalling keras-2.12.0:\n",
            "      Successfully uninstalled keras-2.12.0\n",
            "  Attempting uninstall: tensorboard\n",
            "    Found existing installation: tensorboard 2.12.3\n",
            "    Uninstalling tensorboard-2.12.3:\n",
            "      Successfully uninstalled tensorboard-2.12.3\n",
            "  Attempting uninstall: tensorflow\n",
            "    Found existing installation: tensorflow 2.12.0\n",
            "    Uninstalling tensorflow-2.12.0:\n",
            "      Successfully uninstalled tensorflow-2.12.0\n",
            "Successfully installed keras-2.13.1 tensorboard-2.13.0 tensorflow-2.13.0 tensorflow-estimator-2.13.0 tensorflow-io-gcs-filesystem-0.33.0 tensorflow_io-0.33.0 typing-extensions-4.5.0\n"
          ]
        }
      ],
      "source": [
        "! pip install tensorflow_io[tensorflow]"
      ]
    },
    {
      "cell_type": "code",
      "execution_count": null,
      "metadata": {
        "id": "I4Qd7sjFFamG"
      },
      "outputs": [],
      "source": [
        "import tensorflow\n",
        "from numpy import asarray\n",
        "from numpy import unique\n",
        "from numpy import argmax\n",
        "from tensorflow.math import confusion_matrix\n",
        "from tensorflow.keras import Sequential\n",
        "from tensorflow.keras.layers import Dense\n",
        "from tensorflow.keras.layers import Conv2D\n",
        "from tensorflow.keras.layers import MaxPool2D\n",
        "from tensorflow.keras.layers import Flatten\n",
        "from tensorflow.keras.layers import Dropout\n",
        "from tensorflow.keras import Model\n",
        "from tensorflow.keras import Input\n",
        "import tensorflow as tf\n",
        "import tensorflow_io as tfio\n",
        "from sklearn.model_selection import train_test_split\n",
        "from sklearn.model_selection import KFold\n",
        "import numpy as np\n",
        "import matplotlib.pyplot as plt"
      ]
    },
    {
      "cell_type": "code",
      "execution_count": null,
      "metadata": {
        "id": "nQfZz5OaFdir"
      },
      "outputs": [],
      "source": [
        "dec_x = []\n",
        "dec_x1 = []\n",
        "dec_x2 = []\n",
        "dec_y = []\n",
        "for i in range(len(x1)):\n",
        "  temp_x = []\n",
        "  temp_y\n",
        "  for j in range(len(x1[i])):\n",
        "    image_bytes1 = tensorflow.io.read_file(x1[i][j])\n",
        "    image1 = tfio.image.decode_dicom_image(image_bytes1, dtype=tensorflow.float32)\n",
        "    image_bytes2 = tensorflow.io.read_file(x2[i][j])\n",
        "    image2 = tfio.image.decode_dicom_image(image_bytes2, dtype=tensorflow.float32)\n",
        "    comb_image = []\n",
        "    for k in range(len(image1)):\n",
        "      comb_image.append([image1[k], image2[k]])\n",
        "    dec_x.append(comb_image)\n",
        "    #dec_x1.append([image1])\n",
        "    #dec_x2.append([image2])\n",
        "\n",
        "for i in y:\n",
        "  for j in range(len(i)):\n",
        "    if i[j] == '0':\n",
        "      dec_y.append([1,0,0])\n",
        "    elif i[j] == '1':\n",
        "      dec_y.append([0,1,0])\n",
        "    else:\n",
        "      dec_y.append([0,0,1])\n",
        "\n",
        "dfx = np.asarray(dec_x)\n",
        "#dfx1 = np.asarray(dec_x1)\n",
        "#dfx2 = np.asarray(dec_x2)\n",
        "dfy = np.asarray(dec_y)\n",
        "\n",
        "# separate data into train and test sets\n",
        "# x_train, x_test, y_train, y_test = train_test_split(dfx, dfy, test_size=0.2)\n",
        "\n",
        "kfold = KFold(shuffle=True, random_state=1)"
      ]
    },
    {
      "cell_type": "code",
      "source": [
        "for train, test in kfold.split(dfx):\n",
        "  print(train)\n",
        "  print(test)"
      ],
      "metadata": {
        "id": "bYSlY2CMdJD6"
      },
      "execution_count": null,
      "outputs": []
    },
    {
      "cell_type": "code",
      "execution_count": null,
      "metadata": {
        "id": "4tKTyGrnKmWu",
        "colab": {
          "base_uri": "https://localhost:8080/"
        },
        "outputId": "be30a98c-61d6-484e-93fb-8f4dc224d8ea"
      },
      "outputs": [
        {
          "output_type": "stream",
          "name": "stdout",
          "text": [
            "Accuracy: 0.984\n"
          ]
        }
      ],
      "source": [
        "loss = []\n",
        "val_loss = []\n",
        "#fold = next(kfold.split(dfx2))\n",
        "#fold = next(kfold.split(dfx))\n",
        "#fold = next(kfold.split(dfx1))\n",
        "#fold = next(kfold.split(dfx1))\n",
        "#fold = next(kfold.split(dfx1))\n",
        "train = fold[0]\n",
        "test = fold[1]\n",
        "for i in range(1):#kfold.split(dfx):\n",
        "  # reshape data to have a single channel\n",
        "  x_train = dfx[train]\n",
        "  x_test = dfx[test]\n",
        "  y_train = dfy[train]\n",
        "  y_test = dfy[test]\n",
        "  x_train = x_train.reshape((x_train.shape[0], x_train.shape[3], x_train.shape[4], 2))\n",
        "  x_test = x_test.reshape((x_test.shape[0], x_test.shape[3], x_test.shape[4], 2))\n",
        "\n",
        "  # determine the shape of the input images\n",
        "  in_shape = x_train.shape[1:]\n",
        "\n",
        "  # determine the number of classes\n",
        "  n_classes = 3\n",
        "\n",
        "  # normalize pixel values\n",
        "  x_train = x_train.astype('float32') / 255.0\n",
        "  x_test = x_test.astype('float32') / 255.0\n",
        "\n",
        "  # define model\n",
        "  model = Sequential()\n",
        "  model.add(Conv2D(32, (3,3), activation='relu', kernel_initializer='he_uniform', input_shape=in_shape))\n",
        "  model.add(MaxPool2D((2, 2)))\n",
        "  model.add(Conv2D(32, (3,3), activation='relu', kernel_initializer='he_uniform', input_shape=in_shape))\n",
        "  model.add(MaxPool2D((2, 2)))\n",
        "  model.add(Flatten())\n",
        "  #model.add(Dense(100, activation='relu', kernel_initializer='he_uniform'))\n",
        "  #model.add(Dropout(0.5))\n",
        "  model.add(Dense(100, activation='relu', kernel_initializer='he_uniform'))\n",
        "  model.add(Dropout(0.5))\n",
        "  model.add(Dense(n_classes, activation='softmax'))\n",
        "\n",
        "  # define loss and optimizer\n",
        "  model.compile(optimizer='adam', loss='categorical_crossentropy', metrics=['accuracy'])\n",
        "\n",
        "  # fit the model\n",
        "  history = model.fit(x_train, y_train, epochs=20, batch_size=4, verbose=0, validation_split=0.3)\n",
        "\n",
        "  # evaluate the model\n",
        "  loss, acc = model.evaluate(x_test, y_test, verbose=0)\n",
        "  print('Accuracy: %.3f' % acc)"
      ]
    },
    {
      "cell_type": "code",
      "execution_count": null,
      "metadata": {
        "id": "4pnqZ6idFgyM",
        "colab": {
          "base_uri": "https://localhost:8080/",
          "height": 510
        },
        "outputId": "6c5a98fb-7403-4c0d-a6af-93bf0a353c5d"
      },
      "outputs": [
        {
          "output_type": "display_data",
          "data": {
            "text/plain": [
              "<Figure size 640x480 with 1 Axes>"
            ],
            "image/png": "[encoded data removed]"
          },
          "metadata": {}
        },
        {
          "output_type": "stream",
          "name": "stdout",
          "text": [
            "[6787.28076171875, 109.1678237915039, 11.366291999816895, 2.2668819427490234, 2.340799570083618, 1.6104990243911743, 0.8178853988647461, 0.7816201448440552, 0.46421554684638977, 0.34389403462409973, 0.561482846736908, 0.2668834328651428, 0.32902732491493225, 0.2910735011100769, 0.3638449013233185, 0.24661129713058472, 0.955014705657959, 0.21020390093326569, 0.22551310062408447, 0.24792014062404633] [0.0, 0.9496320486068726, 0.9129236340522766, 0.8781178593635559, 0.8423570394515991, 0.8096234798431396, 0.76691073179245, 0.7111592292785645, 0.6594776511192322, 0.6032269597053528, 0.5561601519584656, 0.5174652934074402, 0.4805382490158081, 0.44361644983291626, 0.41517436504364014, 0.3831471800804138, 0.3564528524875641, 0.32884252071380615, 0.31213024258613586, 0.2982024848461151]\n"
          ]
        }
      ],
      "source": [
        "from matplotlib import pyplot\n",
        "pyplot.title('Learning Curves')\n",
        "pyplot.xlabel('Epoch')\n",
        "pyplot.ylabel('Cross Entropy')\n",
        "pyplot.plot(history.history['loss'][2:], label='train')\n",
        "pyplot.plot(history.history['val_loss'][2:], label='val')\n",
        "pyplot.legend()\n",
        "pyplot.show()\n",
        "print(history.history['loss'], history.history['val_loss'])"
      ]
    },
    {
      "cell_type": "code",
      "execution_count": null,
      "metadata": {
        "id": "dQmQgd4tFiL8",
        "colab": {
          "base_uri": "https://localhost:8080/"
        },
        "outputId": "28e808b8-eb5b-4502-a5f7-7e19b70e3b62"
      },
      "outputs": [
        {
          "output_type": "stream",
          "name": "stdout",
          "text": [
            "10/10 [==============================] - 32s 3s/step\n"
          ]
        }
      ],
      "source": [
        "pred = dfx.astype('float32') / 255.0\n",
        "pred = pred.reshape((pred.shape[0], pred.shape[3], pred.shape[4], 2))\n",
        "y_predict = model.predict(pred)\n",
        "y_true = dfy\n",
        "y_predicta = []\n",
        "y_truea = []\n",
        "for i in range(len(pred)):\n",
        "  y_predicta.append(tf.argmax(y_predict[i]))\n",
        "  y_truea.append(tf.argmax(y_true[i]))\n"
      ]
    },
    {
      "cell_type": "code",
      "execution_count": null,
      "metadata": {
        "colab": {
          "base_uri": "https://localhost:8080/"
        },
        "id": "22qCNpwuFjcG",
        "outputId": "7916a335-0dce-41b2-9dda-40fba5600e87"
      },
      "outputs": [
        {
          "output_type": "stream",
          "name": "stdout",
          "text": [
            "tf.Tensor(\n",
            "[[  9   0   7]\n",
            " [  0  64   0]\n",
            " [  0   0 227]], shape=(3, 3), dtype=int32)\n",
            "62\n",
            "tf.Tensor(\n",
            "[[ 16   0   0]\n",
            " [  0  64   0]\n",
            " [  0   0 227]], shape=(3, 3), dtype=int32)\n"
          ]
        }
      ],
      "source": [
        "y_predict = tf.constant(np.array(y_predicta))\n",
        "y_true = tf.constant(np.array(y_truea))\n",
        "res = confusion_matrix(y_true, y_predict)\n",
        "actual = confusion_matrix(y_true, y_true)\n",
        "print(res)\n",
        "print(len(x_test))\n",
        "print(actual)"
      ]
    },
    {
      "cell_type": "code",
      "execution_count": null,
      "metadata": {
        "colab": {
          "base_uri": "https://localhost:8080/"
        },
        "id": "4g7U2OiYFk-s",
        "outputId": "f7f87610-f994-4f3c-ce61-2e1221d2d875"
      },
      "outputs": [
        {
          "output_type": "stream",
          "name": "stdout",
          "text": [
            "(307, 512, 512, 2)\n"
          ]
        }
      ],
      "source": [
        "print(pred.shape)"
      ]
    },
    {
      "cell_type": "code",
      "execution_count": null,
      "metadata": {
        "colab": {
          "base_uri": "https://localhost:8080/"
        },
        "id": "DfESGlObFmPW",
        "outputId": "8a3eb5a9-5b64-4bea-9143-a2ec75016ed5"
      },
      "outputs": [
        {
          "output_type": "stream",
          "name": "stdout",
          "text": [
            "1/1 [==============================] - 0s 274ms/step\n",
            "Predicted: class=1\n"
          ]
        }
      ],
      "source": [
        "# make a prediction\n",
        "image = x_train[0]\n",
        "yhat = model.predict(asarray([image]))\n",
        "print('Predicted: class=%d' % argmax(yhat))"
      ]
    },
    {
      "cell_type": "code",
      "execution_count": null,
      "metadata": {
        "colab": {
          "base_uri": "https://localhost:8080/"
        },
        "id": "fkSBQYXOFDcE",
        "outputId": "37bf77b0-90ee-4dd5-ec0c-be468d732e21"
      },
      "outputs": [
        {
          "output_type": "stream",
          "name": "stdout",
          "text": [
            "(1, 512, 512, 1)\n",
            "1/1 [==============================] - 0s 168ms/step\n",
            "Predicted: class=1\n"
          ]
        }
      ],
      "source": [
        "test_path = '/content/drive/MyDrive/COMP4550/Project/TCGA-BC-A3KF/Scan1/1-20.dcm'\n",
        "test_image_bytes = tensorflow.io.read_file(test_path)\n",
        "test_image = tfio.image.decode_dicom_image(image_bytes, dtype=tensorflow.float32)\n",
        "test_norm_image = test_image / 255.0\n",
        "print(test_norm_image.shape)\n",
        "test_predict = model.predict(test_norm_image)\n",
        "print('Predicted: class=%d' % argmax(test_predict))"
      ]
    },
    {
      "cell_type": "code",
      "execution_count": null,
      "metadata": {
        "id": "DEozTtQ9F0v7"
      },
      "outputs": [],
      "source": []
    }
  ],
  "metadata": {
    "colab": {
      "provenance": [],
      "authorship_tag": "ABX9TyO3kFeYqRJhlvQ+GCDN9OR0",
      "include_colab_link": true
    },
    "kernelspec": {
      "display_name": "Python 3",
      "name": "python3"
    },
    "language_info": {
      "name": "python"
    }
  },
  "nbformat": 4,
  "nbformat_minor": 0
}